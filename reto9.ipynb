{
  "nbformat": 4,
  "nbformat_minor": 0,
  "metadata": {
    "colab": {
      "provenance": []
    },
    "kernelspec": {
      "name": "python3",
      "display_name": "Python 3"
    },
    "language_info": {
      "name": "python"
    }
  },
  "cells": [
    {
      "cell_type": "markdown",
      "source": [
        "1.Desarrollar un algoritmo que calcule el promedio de un arreglo de reales."
      ],
      "metadata": {
        "id": "2cAgIAlizOPJ"
      }
    },
    {
      "cell_type": "code",
      "source": [
        "def calcular_arreglo(arreglo):\n",
        "  if len(arreglo) == 0: # es el condicional que nos indica el caso en el cual el arreglo esta vacio\n",
        "    return \"el arreglo esta vacio\" # su impresion correspondiente en caso tal de que no haya nada en el arreglo\n",
        "  sumatoria_reales = sum(arreglo) #se establece el valor correspondiente a la sumatoria de todos los tados del arreglo\n",
        "  promedio_reales = sumatoria_reales / len(arreglo) # se establece que la sumatoria de los elementos del arreglo se divida entre el numero de elementos (es la formula de promedio de toda la vida jeje)\n",
        "  return promedio_reales # nos regresa el valor del promedio\n",
        "reales = [] # lista vacia de inicio\n",
        "n = int(input(\"ingrese la cantidad de numeros que tendrá su arreglo: \")) # se da el ingreso a la cantidad de datos que tendra el arreglo\n",
        "for i in range(n): # se establece un rango el cual sera utilizado para que se ingrese cada uno de los elementos del arreglo\n",
        "  num = float(input(\"Ingrese el elemento \" + str(i + 1) + \": \")) # impresion que indica el elemento que debera ingresar\n",
        "  reales.append(num) # se agregan los datos a la lista vacia anteriormente establecida\n",
        "resultado = calcular_arreglo(reales) # se hace la entrega del resultado de la funcion\n",
        "print(\"el promedio de el arreglo de numeros reales es \" + str(resultado)) # se hace el print final con el resultado"
      ],
      "metadata": {
        "colab": {
          "base_uri": "https://localhost:8080/"
        },
        "id": "FvGSD7mX0mIO",
        "outputId": "136c4b02-189d-4fa8-f314-68001303a0df"
      },
      "execution_count": null,
      "outputs": [
        {
          "output_type": "stream",
          "name": "stdout",
          "text": [
            "ingrese la cantidad de numeros que tendrá su arreglo: 4\n",
            "Ingrese el elemento 1: 2\n",
            "Ingrese el elemento 2: 4\n",
            "Ingrese el elemento 3: 8\n",
            "Ingrese el elemento 4: 7\n",
            "el promedio de el arreglo de numeros reales es 5.25\n"
          ]
        }
      ]
    },
    {
      "cell_type": "markdown",
      "source": [
        "2. Desarrollar un algoritmo que calcule el producto punto de dos arreglos de números enteros (reales) de igual tamaño."
      ],
      "metadata": {
        "id": "eMa5iMM46QK6"
      }
    },
    {
      "cell_type": "code",
      "source": [
        "def calcular_producto(ar1, ar2):\n",
        "    if len(ar1) == 0:  # Verifica si las listas están vacías\n",
        "        return \"El arreglo esta vacio.\"\n",
        "    if len(ar1) != len(ar2):  # por medio de este condicional se verifica que los dos arreglos tengan el mismo tamaño\n",
        "        return \"Los arreglos no son del mismo tamaño.\"\n",
        "\n",
        "    producto = 0 # se inicia desde 0\n",
        "    for i in range(len(ar1)): # recorre los elementos del arreglo\n",
        "      producto += ar1[i] * ar2[i] # los numeros se van sumando con forme se convierten en producto\n",
        "    return producto # nos entrega el resultado anetrior\n",
        "\n",
        "if __name__ == \"__main__\":\n",
        "    n = int(input(\"ingrese el tamaño de elementos en los arreglos: \")) # ingresamos el numero de elementos que contendra nuestro arreglo\n",
        "    if n <= 0:\n",
        "      print(\"el tamaño del arreglo debe ser mayor a 0\") # caso en el que digamos que el arreglo va a tener 0 elementos o menos\n",
        "    else:\n",
        "     # Definimos las listas vacías\n",
        "      arreglo1 = []\n",
        "      arreglo2 = []\n",
        "\n",
        "      # Ingresamos los elementos del primer arreglo\n",
        "      print(\"Ingrese los elementos del primer arreglo:\")\n",
        "      for i in range(n): # recorremos cada elemento de la lista, esto se hace con el fin de darle un valor a cada elemento\n",
        "        arreglo1.append(float(input(\"Elemento \" + str(i+1)+ \" \"))) # print que le asignara un valor a cada elemento de el arreglo\n",
        "\n",
        "      # ingresamos los elementos del segundo arreglo (se repite lo mismo que antes pero con el arreglo 2)\n",
        "      print(\"Ingrese los elementos del segundo arreglo:\")\n",
        "      for i in range(n):\n",
        "        arreglo2.append(float(input(\"Elemento \" + str(i+1) + \" \")))\n",
        "\n",
        "      resultado = calcular_producto(arreglo1, arreglo2) # calculamos el resultado de toda la funcion\n",
        "      print(\"El producto punto es:\" + str(resultado)) # es el print final que nos retorna el resultado del arreglo\n"
      ],
      "metadata": {
        "colab": {
          "base_uri": "https://localhost:8080/"
        },
        "id": "JgOGj4pSGNNF",
        "outputId": "745e2ade-797b-4672-d6c9-272fd4e2c597"
      },
      "execution_count": 4,
      "outputs": [
        {
          "output_type": "stream",
          "name": "stdout",
          "text": [
            "Ingrese el tamaño de los arreglos: 2\n",
            "Ingrese los elementos del primer arreglo:\n",
            "Elemento 1 12\n",
            "Elemento 2 12\n",
            "Ingrese los elementos del segundo arreglo:\n",
            "Elemento 1 12\n",
            "Elemento 2 12\n",
            "El producto punto es:288.0\n"
          ]
        }
      ]
    },
    {
      "cell_type": "markdown",
      "source": [
        "Hacer un algoritmo que deje al final de un arreglo de números todos los ceros que aparezcan en dicho arreglo."
      ],
      "metadata": {
        "id": "JaT5YWWwKcI9"
      }
    },
    {
      "cell_type": "code",
      "source": [
        "def mover_ceros_al_final(arreglo):\n",
        "    no_ceros = []  # en esta lista almacenaremos todos los numeros que no sean 0\n",
        "    cant_ceros = 0  # con esto contaaremos los ceros\n",
        "    for num in arreglo: # con el bucle for recorremos cada elemento del arreglo\n",
        "        if num == 0: # verifica que el numero sea igual a 0\n",
        "            cant_ceros += 1 # si es cero aumenta una unidad el contador de 0\n",
        "        else:\n",
        "            no_ceros.append(num) # si no es cero el elemento se envia a la lista sin_ceros\n",
        "    return no_ceros + [0] * cant_ceros # aqui agregamos los ceros al final del arreglo\n",
        "\n",
        "if __name__ == \"__main__\":\n",
        "    n = int(input(\"ingrese el tamaño del arreglo: \")) # el usuario determina el numero de datos en el arreglo\n",
        "    if n <= 0:\n",
        "      print(\"el arreglo no puede tener 0 elementos...\") # es el caso en el cual el ususario dice que su arrreglo tendra 0 datos o datos negativos, algo que no es posible\n",
        "    else:\n",
        "      arreglo = []  # establecmos una lista vacacia\n",
        "      for i in range(n):# recorremos la cantidad de elementos que dijo el usuario, con el fin de asignarle un valor a cada uno\n",
        "        valor = int(input(f\"Elemento \" + str(i+1) + \" \")) # se le asigna un valor (numerico a cada elemento del arreglo)\n",
        "        arreglo.append(valor) # se agrega dicho elemento a la lista arreglo\n",
        "      resultado = mover_ceros_al_final(arreglo) # calcula el resultado de la funcion\n",
        "      print(\"lista con ceros al final: \" + str(resultado)) # imprimimos dicho resultado\n",
        "\n"
      ],
      "metadata": {
        "colab": {
          "base_uri": "https://localhost:8080/"
        },
        "id": "7QHjRb2yL_2c",
        "outputId": "f441fc17-dfe8-470d-a549-99d620187e01"
      },
      "execution_count": 14,
      "outputs": [
        {
          "output_type": "stream",
          "name": "stdout",
          "text": [
            "ingrese el tamaño del arreglo: 3\n",
            "Elemento 1 0\n",
            "Elemento 2 0\n",
            "Elemento 3 42\n",
            "lista con ceros al final: [42, 0, 0]\n"
          ]
        }
      ]
    }
  ]
}